{
 "cells": [
  {
   "cell_type": "raw",
   "metadata": {
    "collapsed": false
   },
   "source": [
    "# BBF\n",
    "This page shows some Python demos.\n",
    "The related data can be downloaded at [data](https://github.com/zhaochangming/BBF/tree/main/data)."
   ]
  },
  {
   "cell_type": "raw",
   "metadata": {
    "collapsed": false
   },
   "source": [
    "\n",
    "## BBF for Classification\n"
   ]
  },
  {
   "cell_type": "code",
   "execution_count": 1,
   "metadata": {
    "collapsed": false,
    "execution": {
     "iopub.execute_input": "2022-03-30T06:41:25.843690Z",
     "iopub.status.busy": "2022-03-30T06:41:25.839657Z",
     "iopub.status.idle": "2022-03-30T06:41:51.481588Z",
     "shell.execute_reply": "2022-03-30T06:41:51.480382Z"
    },
    "pycharm": {
     "name": "#%%\n"
    }
   },
   "outputs": [
    {
     "name": "stdout",
     "output_type": "stream",
     "text": [
      "ACC of baseline: 0.842\n",
      "ACC of BFClassifier: 0.834\n",
      "ACC of BBFClassifier: 0.854\n"
     ]
    }
   ],
   "source": [
    "from BBF import BFClassifier, BBFClassifier\n",
    "import joblib\n",
    "from sklearn.linear_model import RidgeClassifier\n",
    "import numpy as np\n",
    "\n",
    "data = joblib.load('data/test_data.joblib')\n",
    "X, y = np.r_[data['training_data'], data['eval_data']], np.r_[data['training_label'], data['eval_label']]\n",
    "test_X, test_y = data['testing_data'], data['testing_label']\n",
    "init_clf = RidgeClassifier()\n",
    "init_clf.fit(X, y)\n",
    "print('ACC of baseline: %.3f' % init_clf.score(test_X, test_y))\n",
    "clf = BFClassifier(max_iterations=100, n_nodes_H=100, learning_rate=0.2, initLearner=init_clf)\n",
    "clf.fit(X, y)\n",
    "print('ACC of BFClassifier: %.3f' % clf.score(test_X, test_y))\n",
    "clf = BBFClassifier(max_iterations=100, n_nodes_H=100, learning_rate=0.2, n_estimators=20, initLearner=init_clf)\n",
    "clf.fit(X, y)\n",
    "print('ACC of BBFClassifier: %.3f' % clf.score(test_X, test_y))"
   ]
  },
  {
   "cell_type": "raw",
   "metadata": {
    "collapsed": false,
    "pycharm": {
     "name": "#%% raw\n"
    }
   },
   "source": [
    "\n",
    "## BBF for Regression\n"
   ]
  },
  {
   "cell_type": "code",
   "execution_count": 2,
   "metadata": {
    "collapsed": false,
    "execution": {
     "iopub.execute_input": "2022-03-30T06:41:51.498288Z",
     "iopub.status.busy": "2022-03-30T06:41:51.496704Z",
     "iopub.status.idle": "2022-03-30T06:42:07.390381Z",
     "shell.execute_reply": "2022-03-30T06:42:07.391494Z"
    },
    "pycharm": {
     "name": "#%%\n"
    }
   },
   "outputs": [
    {
     "name": "stdout",
     "output_type": "stream",
     "text": [
      "R^2 of baseline: 0.443\n",
      "R^2 of BFRegressor: 0.479\n",
      "R^2 of BBFRegressor: 0.518\n"
     ]
    }
   ],
   "source": [
    "from BBF import BFRegressor, BBFRegressor\n",
    "import joblib\n",
    "from sklearn.linear_model import Ridge\n",
    "import numpy as np\n",
    "\n",
    "data = joblib.load('data/test_data.joblib')\n",
    "X, y = np.r_[data['training_data'], data['eval_data']], np.r_[data['training_label'], data['eval_label']]\n",
    "test_X, test_y = data['testing_data'], data['testing_label']\n",
    "init_reg = Ridge()\n",
    "init_reg.fit(X, y)\n",
    "print('R^2 of baseline: %.3f' % init_reg.score(test_X, test_y))\n",
    "reg = BFRegressor(max_iterations=100, n_nodes_H=100, learning_rate=0.05, initLearner=init_reg)\n",
    "reg.fit(X, y, eval_data=(test_X, test_y))\n",
    "print('R^2 of BFRegressor: %.3f' % reg.score(test_X, test_y))\n",
    "reg = BBFRegressor(max_iterations=100, n_nodes_H=100, learning_rate=0.05, n_estimators=20, initLearner=init_reg)\n",
    "reg.fit(X, y)\n",
    "print('R^2 of BBFRegressor: %.3f' % reg.score(test_X, test_y)) "
   ]
  }
 ],
 "metadata": {
  "kernelspec": {
   "display_name": "Python 3",
   "language": "python",
   "name": "python3"
  },
  "language_info": {
   "codemirror_mode": {
    "name": "ipython",
    "version": 3
   },
   "file_extension": ".py",
   "mimetype": "text/x-python",
   "name": "python",
   "nbconvert_exporter": "python",
   "pygments_lexer": "ipython3",
   "version": "3.6.8"
  }
 },
 "nbformat": 4,
 "nbformat_minor": 0
}