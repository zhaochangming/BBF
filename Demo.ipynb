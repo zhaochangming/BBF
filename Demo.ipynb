{
 "cells": [
  {
   "cell_type": "raw",
   "metadata": {
    "collapsed": true,
    "pycharm": {
     "name": "#%% raw\n"
    }
   },
   "source": [
    "# TrBF\n",
    "This page shows some Python demos.\n",
    "The related data can be downloaded at [data](https://github.com/zhaochangming/TrBF/tree/main/data)."
   ]
  },
  {
   "cell_type": "raw",
   "metadata": {
    "collapsed": false
   },
   "source": [
    "\n",
    "## TrBF for Source-free Semi-supervised Classification in Transfer Learning\n"
   ]
  },
  {
   "cell_type": "code",
   "execution_count": 1,
   "metadata": {
    "collapsed": false,
    "execution": {
     "iopub.execute_input": "2022-03-29T02:22:10.190651Z",
     "iopub.status.busy": "2022-03-29T02:22:10.187102Z",
     "iopub.status.idle": "2022-03-29T02:22:18.798695Z",
     "shell.execute_reply": "2022-03-29T02:22:18.799264Z"
    },
    "pycharm": {
     "name": "#%%\n"
    }
   },
   "outputs": [
    {
     "name": "stdout",
     "output_type": "stream",
     "text": [
      "ACC of Baseline: 0.492\n",
      "ACC of TrBF: 0.592\n"
     ]
    }
   ],
   "source": [
    "import numpy as np\n",
    "from sklearn.metrics import accuracy_score\n",
    "from TrBF import NNLinear, SDA_for_classification, SemiTrBFClassifier\n",
    "np.random.seed(0)\n",
    "init_model = np.load('data/SF_semi.npz')\n",
    "initLearner = NNLinear(W=init_model['weight'], bias=init_model['bias'])\n",
    "X_test = init_model['test_feat']\n",
    "y_test = init_model['test_y']\n",
    "few_shot_index = np.random.choice(range(len(X_test)), int(0.2 * len(X_test)), replace=False)\n",
    "few_shot_index_bool = np.zeros(len(X_test), dtype=np.bool)\n",
    "few_shot_index_bool[few_shot_index] = True\n",
    "X_train = X_test[few_shot_index_bool]\n",
    "y_train = y_test[few_shot_index_bool]\n",
    "X_test = X_test[~few_shot_index_bool]\n",
    "y_test = y_test[~few_shot_index_bool]\n",
    "X_SDA, y_SDA = SDA_for_classification(X_test, y_test, initLearner, num_enhanced=1000)\n",
    "acc_baseline = accuracy_score(y_test, initLearner.decision_function(X_test).argmax(axis=1))\n",
    "base_estimator = SemiTrBFClassifier(max_iterations=200, active_function='relu', n_nodes_H=100, verbose=False, batch_size=256, learning_rate=0.05,\n",
    "                                    noise_scale=1.0, initLearner=initLearner)\n",
    "base_estimator.fit(X=X_train, y=y_train, X_unlabeled=X_test, X_source=X_SDA, y_source=y_SDA)\n",
    "acc_TrBF = accuracy_score(y_test, base_estimator.predict_proba(X_test).argmax(axis=1))\n",
    "print('ACC of Baseline: %.3f' % acc_baseline)\n",
    "print('ACC of TrBF: %.3f' % acc_TrBF)"
   ]
  },
  {
   "cell_type": "raw",
   "metadata": {
    "collapsed": false,
    "pycharm": {
     "name": "#%% raw\n"
    }
   },
   "source": [
    "\n",
    "## TrBF for Source-free Few-shot Classification in Transfer Learning\n"
   ]
  },
  {
   "cell_type": "code",
   "execution_count": 2,
   "metadata": {
    "collapsed": false,
    "execution": {
     "iopub.execute_input": "2022-03-29T02:22:18.813515Z",
     "iopub.status.busy": "2022-03-29T02:22:18.811787Z",
     "iopub.status.idle": "2022-03-29T02:22:25.264252Z",
     "shell.execute_reply": "2022-03-29T02:22:25.263857Z"
    },
    "pycharm": {
     "name": "#%%\n"
    }
   },
   "outputs": [
    {
     "name": "stdout",
     "output_type": "stream",
     "text": [
      "ACC of Baseline: 0.492\n",
      "ACC of TrBF: 0.551\n"
     ]
    }
   ],
   "source": [
    "import numpy as np\n",
    "from sklearn.metrics import accuracy_score\n",
    "from TrBF import NNLinear, SDA_for_classification, SemiTrBFClassifier\n",
    "np.random.seed(0)\n",
    "init_model = np.load('data/SF_semi.npz')\n",
    "initLearner = NNLinear(W=init_model['weight'], bias=init_model['bias'])\n",
    "X_test = init_model['test_feat']\n",
    "y_test = init_model['test_y']\n",
    "few_shot_index = np.random.choice(range(len(X_test)), int(0.2 * len(X_test)), replace=False)\n",
    "few_shot_index_bool = np.zeros(len(X_test), dtype=np.bool)\n",
    "few_shot_index_bool[few_shot_index] = True\n",
    "X_train = X_test[few_shot_index_bool]\n",
    "y_train = y_test[few_shot_index_bool]\n",
    "X_test = X_test[~few_shot_index_bool]\n",
    "y_test = y_test[~few_shot_index_bool]\n",
    "X_SDA, y_SDA = SDA_for_classification(X_test, y_test, initLearner, num_enhanced=1000)\n",
    "acc_baseline = accuracy_score(y_test, initLearner.decision_function(X_test).argmax(axis=1))\n",
    "base_estimator = SemiTrBFClassifier(max_iterations=200, active_function='relu', n_nodes_H=100, verbose=False, batch_size=256, learning_rate=0.05,\n",
    "                                    noise_scale=1.0, initLearner=initLearner)\n",
    "base_estimator.fit(X=X_train, y=y_train, X_unlabeled=None, X_source=X_SDA, y_source=y_SDA)\n",
    "acc_TrBF = accuracy_score(y_test, base_estimator.predict_proba(X_test).argmax(axis=1))\n",
    "print('ACC of Baseline: %.3f' % acc_baseline)\n",
    "print('ACC of TrBF: %.3f' % acc_TrBF)"
   ]
  },
  {
   "cell_type": "raw",
   "metadata": {
    "collapsed": false,
    "pycharm": {
     "name": "#%% raw\n"
    }
   },
   "source": [
    "\n",
    "## TrBF for Semi-supervised Classification in Transfer Learning\n"
   ]
  },
  {
   "cell_type": "code",
   "execution_count": 3,
   "metadata": {
    "collapsed": false,
    "execution": {
     "iopub.execute_input": "2022-03-29T02:22:25.281977Z",
     "iopub.status.busy": "2022-03-29T02:22:25.279816Z",
     "iopub.status.idle": "2022-03-29T02:22:30.643535Z",
     "shell.execute_reply": "2022-03-29T02:22:30.644095Z"
    },
    "pycharm": {
     "name": "#%%\n"
    }
   },
   "outputs": [
    {
     "name": "stdout",
     "output_type": "stream",
     "text": [
      "ACC of Baseline: 0.492\n",
      "ACC of TrBF: 0.575\n"
     ]
    }
   ],
   "source": [
    "import numpy as np\n",
    "from sklearn.metrics import accuracy_score\n",
    "from TrBF import NNLinear, SemiTrBFClassifier\n",
    "np.random.seed(0)\n",
    "init_model = np.load('data/SF_semi.npz')\n",
    "initLearner = NNLinear(W=init_model['weight'], bias=init_model['bias'])\n",
    "X_test = init_model['test_feat']\n",
    "y_test = init_model['test_y']\n",
    "few_shot_index = np.random.choice(range(len(X_test)), int(0.2 * len(X_test)), replace=False)\n",
    "few_shot_index_bool = np.zeros(len(X_test), dtype=np.bool)\n",
    "few_shot_index_bool[few_shot_index] = True\n",
    "X_train = X_test[few_shot_index_bool]\n",
    "y_train = y_test[few_shot_index_bool]\n",
    "X_test = X_test[~few_shot_index_bool]\n",
    "y_test = y_test[~few_shot_index_bool] \n",
    "X_source = init_model['lb_feat']\n",
    "y_source = init_model['lb_y']\n",
    "acc_baseline = accuracy_score(y_test, initLearner.decision_function(X_test).argmax(axis=1))\n",
    "base_estimator = SemiTrBFClassifier(max_iterations=200, active_function='relu', n_nodes_H=100, verbose=False, batch_size=256, learning_rate=0.05,\n",
    "                                    noise_scale=1.0, initLearner=initLearner)\n",
    "base_estimator.fit(X=X_train, y=y_train, X_unlabeled=X_test, X_source=X_source, y_source=y_source)\n",
    "acc_TrBF = accuracy_score(y_test, base_estimator.predict_proba(X_test).argmax(axis=1))\n",
    "print('ACC of Baseline: %.3f' % acc_baseline)\n",
    "print('ACC of TrBF: %.3f' % acc_TrBF)"
   ]
  },
  {
   "cell_type": "raw",
   "metadata": {
    "collapsed": false,
    "pycharm": {
     "name": "#%% raw\n"
    }
   },
   "source": [
    "\n",
    "## TrBF for Few-shot Classification in Transfer Learning\n"
   ]
  },
  {
   "cell_type": "code",
   "execution_count": 4,
   "metadata": {
    "collapsed": false,
    "execution": {
     "iopub.execute_input": "2022-03-29T02:22:30.655957Z",
     "iopub.status.busy": "2022-03-29T02:22:30.652578Z",
     "iopub.status.idle": "2022-03-29T02:22:34.625482Z",
     "shell.execute_reply": "2022-03-29T02:22:34.626063Z"
    },
    "pycharm": {
     "name": "#%%\n"
    }
   },
   "outputs": [
    {
     "name": "stdout",
     "output_type": "stream",
     "text": [
      "ACC of Baseline: 0.492\n",
      "ACC of TrBF: 0.560\n"
     ]
    }
   ],
   "source": [
    "import numpy as np\n",
    "from sklearn.metrics import accuracy_score\n",
    "from TrBF import NNLinear, SemiTrBFClassifier\n",
    "np.random.seed(0)\n",
    "init_model = np.load('data/SF_semi.npz')\n",
    "initLearner = NNLinear(W=init_model['weight'], bias=init_model['bias'])\n",
    "X_test = init_model['test_feat']\n",
    "y_test = init_model['test_y']\n",
    "few_shot_index = np.random.choice(range(len(X_test)), int(0.2 * len(X_test)), replace=False)\n",
    "few_shot_index_bool = np.zeros(len(X_test), dtype=np.bool)\n",
    "few_shot_index_bool[few_shot_index] = True\n",
    "X_train = X_test[few_shot_index_bool]\n",
    "y_train = y_test[few_shot_index_bool]\n",
    "X_test = X_test[~few_shot_index_bool]\n",
    "y_test = y_test[~few_shot_index_bool]\n",
    "X_source = init_model['lb_feat']\n",
    "y_source = init_model['lb_y']\n",
    "acc_baseline = accuracy_score(y_test, initLearner.decision_function(X_test).argmax(axis=1))\n",
    "base_estimator = SemiTrBFClassifier(max_iterations=200, active_function='relu', n_nodes_H=100, verbose=False, batch_size=256, learning_rate=0.05,\n",
    "                                    noise_scale=1.0, initLearner=initLearner)\n",
    "base_estimator.fit(X=X_train, y=y_train, X_unlabeled=None, X_source=X_source, y_source=y_source)\n",
    "acc_TrBF = accuracy_score(y_test, base_estimator.predict_proba(X_test).argmax(axis=1))\n",
    "print('ACC of Baseline: %.3f' % acc_baseline)\n",
    "print('ACC of TrBF: %.3f' % acc_TrBF)"
   ]
  },
  {
   "cell_type": "raw",
   "metadata": {
    "collapsed": false,
    "pycharm": {
     "name": "#%% raw\n"
    }
   },
   "source": [
    "\n",
    "## TrBF for Semi-supervised Regression in Transfer Learning\n"
   ]
  },
  {
   "cell_type": "code",
   "execution_count": 5,
   "metadata": {
    "collapsed": false,
    "execution": {
     "iopub.execute_input": "2022-03-29T02:22:34.636758Z",
     "iopub.status.busy": "2022-03-29T02:22:34.636087Z",
     "iopub.status.idle": "2022-03-29T02:22:36.204391Z",
     "shell.execute_reply": "2022-03-29T02:22:36.203727Z"
    },
    "pycharm": {
     "name": "#%%\n"
    }
   },
   "outputs": [
    {
     "name": "stdout",
     "output_type": "stream",
     "text": [
      "MSE of Baseline: 0.278\n",
      "MSE of TrBF: 0.232\n"
     ]
    }
   ],
   "source": [
    "import numpy as np\n",
    "from sklearn.metrics import mean_squared_error\n",
    "from sklearn.linear_model import Ridge\n",
    "from TrBF import NNLinear, SemiTrBFRegressor\n",
    "\n",
    "np.random.seed(0)\n",
    "init_model = np.load('data/SF_semi.npz')\n",
    "X_test = init_model['test_feat']\n",
    "y_test = init_model['test_y']\n",
    "index_set = np.where(y_test < 2)[0]\n",
    "X_test, y_test = X_test[index_set], y_test[index_set]\n",
    "few_shot_index = np.random.choice(range(len(X_test)), int(0.5 * len(X_test)), replace=False)\n",
    "few_shot_index_bool = np.zeros(len(X_test), dtype=np.bool)\n",
    "few_shot_index_bool[few_shot_index] = True\n",
    "X_train = X_test[few_shot_index_bool]\n",
    "y_train = y_test[few_shot_index_bool]\n",
    "X_test = X_test[~few_shot_index_bool]\n",
    "y_test = y_test[~few_shot_index_bool]\n",
    "\n",
    "X_source = init_model['lb_feat']\n",
    "y_source = init_model['lb_y']\n",
    "index_set = np.where(y_source < 2)[0]\n",
    "X_source, y_source = X_source[index_set], y_source[index_set]\n",
    "\n",
    "ridge_model = Ridge().fit(X_source, y_source)\n",
    "initLearner = NNLinear(W=ridge_model.coef_, bias=ridge_model.intercept_)\n",
    "print('MSE of Baseline: %.3f' % mean_squared_error(y_test, initLearner.decision_function(X_test).ravel()))\n",
    "base_estimator = SemiTrBFRegressor(max_iterations=200, active_function='relu', n_nodes_H=100, verbose=False, batch_size=256, learning_rate=0.05,\n",
    "                                   noise_scale=1.0, initLearner=initLearner)\n",
    "base_estimator.fit(X=X_train, y=y_train, X_unlabeled=X_test, X_source=X_source, y_source=y_source)\n",
    "MSE_TrBF = mean_squared_error(y_test, base_estimator.predict(X_test))\n",
    "print('MSE of TrBF: %.3f' % MSE_TrBF)"
   ]
  }
 ],
 "metadata": {
  "kernelspec": {
   "display_name": "Python 3",
   "language": "python",
   "name": "python3"
  },
  "language_info": {
   "codemirror_mode": {
    "name": "ipython",
    "version": 3
   },
   "file_extension": ".py",
   "mimetype": "text/x-python",
   "name": "python",
   "nbconvert_exporter": "python",
   "pygments_lexer": "ipython3",
   "version": "3.6.10"
  }
 },
 "nbformat": 4,
 "nbformat_minor": 0
}